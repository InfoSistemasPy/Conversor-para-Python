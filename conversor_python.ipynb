{
 "cells": [
  {
   "cell_type": "code",
   "execution_count": null,
   "id": "6398e1ef",
   "metadata": {},
   "outputs": [
    {
     "name": "stdout",
     "output_type": "stream",
     "text": [
      "16\n",
      "py_to_exe\n"
     ]
    }
   ],
   "source": [
    "#Desenvolvido por: @Thiago.leandro.py Intagram.\n",
    "#      Portifólio: https://infosistemaspy.github.io/portal/\n",
    "#         Git Hub: https://github.com/InfoSistemasPy\n",
    "\n",
    "\n",
    "# Importar as Bibliotecas e Dependencias\n",
    "from PyQt5 import QtCore, QtGui, QtWidgets, uic\n",
    "from PyQt5.QtWidgets import QApplication, QWidget, QComboBox, QPushButton, QFileDialog, QVBoxLayout, QMainWindow, QProgressBar\n",
    "from PyQt5.QtWidgets import QMessageBox\n",
    "import time\n",
    "import os\n",
    "import sys\n",
    "import sip\n",
    "\n",
    "def funcao_principal():\n",
    "    valor = 0\n",
    "    caminho = os.getcwd()\n",
    "    extensao = \".py\"\n",
    "    nome_arquivo = tela.lineEdit.text()\n",
    "    \n",
    "    #Loop de verificação\n",
    "    if extensao in nome_arquivo:\n",
    "        pos = nome_arquivo.find('.')\n",
    "        print(pos)\n",
    "        \n",
    "        # Barra de Progresso\n",
    "        tela.progressBar.setValue(valor)\n",
    "        tela.progressBar.setRange(0, 100)\n",
    "        valor = valor + 15\n",
    "        tela.progressBar.setValue(valor)\n",
    "        time.sleep(1)\n",
    "        valor = valor + 10\n",
    "        tela.progressBar.setValue(valor)\n",
    "        time.sleep(1)\n",
    "        valor = valor + 20\n",
    "        tela.progressBar.setValue(valor)\n",
    "        time.sleep(1)\n",
    "        valor = valor + 15\n",
    "        tela.progressBar.setValue(valor)\n",
    "        time.sleep(1)\n",
    "        valor = valor + 25\n",
    "        tela.progressBar.setValue(valor)\n",
    "        time.sleep(1)\n",
    "        valor = valor + 15\n",
    "        tela.progressBar.setValue(valor)\n",
    "        time.sleep(1)\n",
    "    \n",
    "        # Codigo da Conversão\n",
    "        os.system('cd ' + caminho)\n",
    "        # Não sei se precisa instalar\n",
    "        os.system('pip install cx_freeze')\n",
    "        time.sleep(5)\n",
    "        os.system('cxfreeze {}'.format(nome_arquivo))\n",
    "     \n",
    "        # Teste do app\n",
    "        print('py_to_exe')\n",
    "        #Mensagen de conclusão popup\n",
    "        mgs_py_to_exe = \"Conversão 100% Concluida!!!\"\n",
    "        QMessageBox.about(tela,\"py_to_exe\",mgs_py_to_exe)\n",
    "    \n",
    "        #Limpar LineEdit e o progressBar\n",
    "        time.sleep(1)\n",
    "        tela.lineEdit.clear()\n",
    "        tela.progressBar.setValue(0)\n",
    "    else:\n",
    "        print(\"erro\")\n",
    "        msg_else =\"Por favor escreva o nome do programa + \" + \".py\"\n",
    "        QMessageBox.about(tela,\"alerta\",msg_else)\n",
    "    \n",
    "app=QtWidgets.QApplication([])\n",
    "tela=uic.loadUi('janela.ui')\n",
    "\n",
    "tela.pushButton_3.clicked.connect(funcao_principal)\n",
    "\n",
    "tela.show()\n",
    "app.exec()\n",
    "sys.exit(app.exec())"
   ]
  },
  {
   "cell_type": "code",
   "execution_count": null,
   "id": "fca0f1b2",
   "metadata": {},
   "outputs": [],
   "source": []
  }
 ],
 "metadata": {
  "kernelspec": {
   "display_name": "Python 3 (ipykernel)",
   "language": "python",
   "name": "python3"
  },
  "language_info": {
   "codemirror_mode": {
    "name": "ipython",
    "version": 3
   },
   "file_extension": ".py",
   "mimetype": "text/x-python",
   "name": "python",
   "nbconvert_exporter": "python",
   "pygments_lexer": "ipython3",
   "version": "3.8.13"
  }
 },
 "nbformat": 4,
 "nbformat_minor": 5
}
